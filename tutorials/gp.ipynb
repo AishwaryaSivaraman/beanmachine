{
 "cells": [
  {
   "cell_type": "markdown",
   "metadata": {},
   "source": [
    "# Gaussian Process Regression (with GPytorch)\n",
    "This tutorial assumes familiarity with the following:\n",
    "1. Bean Machine [modeling](#link) and [inference](#link)\n",
    "2. [Gaussian Processes](https://en.wikipedia.org/wiki/Gaussian_process)\n",
    "3. [GPyTorch](https://gpytorch.ai/)\n",
    "\n",
    "A Gaussian Process (GP) is a stochastic process commonly used in Bayesian non-parametrics, whose finite collection of random variables follow a multivariate Gaussian distribution.  GPs are fully defined by a mean and covariance function:\n",
    "\n",
    "$$f \\sim \\mathcal{GP}\\left(\\mu(x), \\mathbf{K}_f(x, x')\\right)$$\n",
    "\n",
    "where  $x, x' \\in\\mathbf{X}$ are two data points (e.g. train and test), $\\mu$ is the mean function (usually taken to be zero or constant), and $\\mathbf{K}_f$ is the kernel function, which computes a covariance given two datapoints and a distance metric.\n",
    "\n",
    "The aim is then to fit a posterior over *functions*.  GPs allow us to learn a distribution over functions given our observed data and predict unseen data with well-calibrated uncertainty, and is commonly used in Bayesian Optimization as a surrogate function to maximize an objective. For a thorough introduction to Gaussian processes, please see [1]\n",
    "\n",
    "With a PPL such as Bean Machine, we can be Bayesian about the parameters we care about, i.e. learn posterior distributions over these parameters rather than a point estimate."
   ]
  },
  {
   "cell_type": "code",
   "execution_count": 1,
   "metadata": {},
   "outputs": [
    {
     "name": "stderr",
     "output_type": "stream",
     "text": [
      "\n",
      "Bad key \"axes.color_cycle\" on line 214 in\n",
      "/home/jpchen/.matplotlib/matplotlibrc.\n",
      "You probably need to get an updated matplotlibrc file from\n",
      "https://github.com/matplotlib/matplotlib/blob/v3.1.2/matplotlibrc.template\n",
      "or from the matplotlib source distribution\n"
     ]
    },
    {
     "name": "stdout",
     "output_type": "stream",
     "text": [
      "pytorch version:  1.8.0a0fb\n",
      "gpytorch version:  1.3.0\n"
     ]
    }
   ],
   "source": [
    "import math\n",
    "import copy\n",
    "from functools import partial\n",
    "\n",
    "import torch\n",
    "import torch.distributions as dist\n",
    "\n",
    "import beanmachine\n",
    "import beanmachine.ppl as bm\n",
    "from beanmachine.ppl.inference.single_site_no_u_turn_sampler import SingleSiteNoUTurnSampler\n",
    "import beanmachine.ppl.experimental.gp as bgp\n",
    "from beanmachine.ppl.experimental.gp.models import SimpleGP\n",
    "\n",
    "import gpytorch\n",
    "from gpytorch.kernels import Kernel\n",
    "from gpytorch.distributions import MultivariateNormal\n",
    "\n",
    "import matplotlib.pyplot as plt\n",
    "import seaborn as sns\n",
    "\n",
    "torch.manual_seed(123)\n",
    "print('pytorch version: ', torch.__version__)\n",
    "print('gpytorch version: ', gpytorch.__version__)\n",
    "# print('beanmachine version: ', beanmachine.__version__)"
   ]
  },
  {
   "cell_type": "markdown",
   "metadata": {},
   "source": [
    "Let's use some simple cyclic data:"
   ]
  },
  {
   "cell_type": "code",
   "execution_count": 2,
   "metadata": {},
   "outputs": [
    {
     "data": {
      "image/png": "[encoded data removed]",
      "text/plain": [
       "<Figure size 432x288 with 1 Axes>"
      ]
     },
     "metadata": {
      "bento_obj_id": "140136050465104",
      "needs_background": "light"
     },
     "output_type": "display_data"
    }
   ],
   "source": [
    "x_train = torch.linspace(0, 1, 11)\n",
    "y_train = torch.sin(x_train * (2 * math.pi)) + torch.randn(x_train.shape) * 0.2\n",
    "x_test = torch.linspace(0, 1, 51).unsqueeze(-1)\n",
    "\n",
    "with torch.no_grad():\n",
    "    plt.scatter(x_train.numpy(), y_train.numpy())\n",
    "    plt.show()"
   ]
  },
  {
   "cell_type": "markdown",
   "metadata": {},
   "source": [
    "Since this data has a periodic trend to it, we will use a Periodic Kernel:\n",
    "\n",
    "$$k(x, x') = \\sigma^2 \\exp\\Big(-\\frac{2}{\\ell}\\sin^2\\Big(\\pi\\frac{|x - x'|}{p}\\Big)\\Big)$$\n",
    "\n",
    "where $p$, $\\ell$, $\\sigma^2$ are the periodicity, lengthscale, and outputscale of the function respectively, the (hyper)parameters of the kernel we want to learn.\n",
    "\n"
   ]
  },
  {
   "cell_type": "markdown",
   "metadata": {},
   "source": [
    "## MAP Estimation (with GPyTorch)\n",
    "GPytorch's exact inference algorithms allow you to compute maximum a posteriori (MAP) estimates of kernel parameters. Since a `SimpleGP` extends a GPytorch ExactGP model, you can use GPytorch to optimize the model. Let's try that, closely following the [GPytorch regression tutorial](https://docs.gpytorch.ai/en/latest/examples/01_Exact_GPs/Simple_GP_Regression.html)."
   ]
  },
  {
   "cell_type": "code",
   "execution_count": 3,
   "metadata": {},
   "outputs": [],
   "source": [
    "class Regression(SimpleGP):\n",
    "    def __init__(self,\n",
    "                 x_train,\n",
    "                 y_train,\n",
    "                 mean,\n",
    "                 kernel,\n",
    "                 likelihood,\n",
    "                 *args,\n",
    "                 **kwargs):\n",
    "        super().__init__(x_train, y_train, mean, kernel, likelihood)\n",
    "\n",
    "    def forward(self, data, batch_shape=()):\n",
    "        \"\"\"\n",
    "        Computes the GP prior given data. This method should always\n",
    "        return a `torch.distributions.MultivariateNormal`\n",
    "        \"\"\"\n",
    "        shape = data.shape[len(batch_shape)]\n",
    "        jitter = torch.eye(shape, shape) * 1e-5\n",
    "        for _ in range(len(batch_shape)):\n",
    "            jitter = jitter.unsqueeze(0)\n",
    "        if isinstance(self.mean, gpytorch.means.Mean): \n",
    "            # demo using gpytorch for MAP estimation\n",
    "            mean = self.mean(data)\n",
    "        else:\n",
    "            # use Bean Machine for learning posteriors\n",
    "            if self.training:\n",
    "                mean = self.mean(batch_shape).expand(data.shape[len(batch_shape):])\n",
    "            else:\n",
    "                mean = self.mean.expand(data.shape[:-1]) # overridden for evaluation\n",
    "        cov = self.kernel(data) + jitter\n",
    "        return MultivariateNormal(mean, cov)"
   ]
  },
  {
   "cell_type": "code",
   "execution_count": 4,
   "metadata": {},
   "outputs": [],
   "source": [
    "kernel = gpytorch.kernels.ScaleKernel(base_kernel=gpytorch.kernels.PeriodicKernel())\n",
    "likelihood = gpytorch.likelihoods.GaussianLikelihood()\n",
    "mean = gpytorch.means.ConstantMean()\n",
    "gp = Regression(x_train, y_train, mean, kernel, likelihood)"
   ]
  },
  {
   "cell_type": "code",
   "execution_count": 5,
   "metadata": {},
   "outputs": [
    {
     "name": "stdout",
     "output_type": "stream",
     "text": [
      "Iter 1/100 - Loss: 1.082\n",
      "Iter 11/100 - Loss: 0.504\n",
      "Iter 21/100 - Loss: 0.040\n",
      "Iter 31/100 - Loss: -0.385\n",
      "Iter 41/100 - Loss: -0.755\n",
      "Iter 51/100 - Loss: -0.939\n",
      "Iter 61/100 - Loss: -0.947\n",
      "Iter 71/100 - Loss: -0.966\n",
      "Iter 81/100 - Loss: -0.959\n",
      "Iter 91/100 - Loss: -0.954\n"
     ]
    }
   ],
   "source": [
    "optimizer = torch.optim.Adam(gp.parameters(), lr=0.1)  # Includes GaussianLikelihood parameters\n",
    "mll = gpytorch.mlls.ExactMarginalLogLikelihood(likelihood, gp)\n",
    "gp.eval()  # this converts the BM model into a gpytorch model\n",
    "for i in range(100):\n",
    "    optimizer.zero_grad()\n",
    "    output = gp(x_train)\n",
    "    loss = -mll(output, y_train)\n",
    "    loss.backward()\n",
    "    if i % 10 == 0:\n",
    "        print('Iter %d/%d - Loss: %.3f' % (\n",
    "              i + 1, 100, loss.item(),\n",
    "             ))\n",
    "    optimizer.step()"
   ]
  },
  {
   "cell_type": "code",
   "execution_count": 6,
   "metadata": {},
   "outputs": [
    {
     "data": {
      "image/png": "[encoded data removed]",
      "text/plain": [
       "<Figure size 288x216 with 1 Axes>"
      ]
     },
     "metadata": {
      "bento_obj_id": "140135830872784",
      "needs_background": "light"
     },
     "output_type": "display_data"
    }
   ],
   "source": [
    "with torch.no_grad():\n",
    "    observed_pred = likelihood(gp(x_test))\n",
    "    # Initialize plot\n",
    "    f, ax = plt.subplots(1, 1, figsize=(4, 3))\n",
    "\n",
    "    # Get upper and lower confidence bounds\n",
    "    lower, upper = observed_pred.confidence_region()\n",
    "    # Plot training data as black stars\n",
    "    ax.plot(x_train.numpy(), y_train.numpy(), 'k*')\n",
    "    # Plot predictive means as blue line\n",
    "    ax.plot(x_test.squeeze().numpy(), observed_pred.mean.numpy(), 'b')\n",
    "    # Shade between the lower and upper confidence bounds\n",
    "    ax.fill_between(x_test.squeeze().numpy(), lower.numpy(), upper.numpy(), alpha=0.5)\n",
    "    ax.set_ylim([-1, 1])\n",
    "    ax.legend(['Observed Data', 'Mean', 'Confidence'])"
   ]
  },
  {
   "cell_type": "markdown",
   "metadata": {},
   "source": [
    "Not bad! Our GP fits this simple function fairly well. However, we've only captured data uncertainty, not parameter uncertainty. It can often be the case that calibrating parameter uncertainty may lead to better predictive performance.  In the next section, we'll do just that using Bean Machine's NUTS algorithm."
   ]
  },
  {
   "cell_type": "markdown",
   "metadata": {},
   "source": [
    "## Fully Bayesian Inference with Bean Machine"
   ]
  },
  {
   "cell_type": "markdown",
   "metadata": {},
   "source": [
    "Let's reuse the same model, but this time, use Bean Machine to learn posteriors over the parameters.  In `train` mode, `SimpleGP` is a simple wrapper around `gpytorch.models.ExactGP` that lifts learnable parameters to BM random variables.  Next, lets define our parameters $p$, $\\sigma^2$, and $\\ell$ in addition to mean and observation noise as random variables with the priors they are sampled from."
   ]
  },
  {
   "cell_type": "code",
   "execution_count": 8,
   "metadata": {},
   "outputs": [],
   "source": [
    "@bm.random_variable\n",
    "def outputscale():\n",
    "    return dist.Uniform(torch.tensor(1.), torch.tensor(2.))\n",
    "\n",
    "@bm.random_variable\n",
    "def lengthscale():\n",
    "    return dist.Uniform(torch.tensor([0.01]), torch.tensor([0.5]))\n",
    "\n",
    "@bm.random_variable\n",
    "def period_length():\n",
    "    return dist.Uniform(torch.tensor([0.05]), torch.tensor([2.5]))\n",
    "\n",
    "@bm.random_variable\n",
    "def noise():\n",
    "    return dist.Uniform(torch.tensor([0.05]), torch.tensor([0.3]))\n",
    "\n",
    "@bm.random_variable\n",
    "def mean(batch_shape=()):\n",
    "    batch_shape += (1,)\n",
    "    a = -1 * torch.ones(batch_shape)\n",
    "    b = torch.ones(batch_shape)\n",
    "    return dist.Uniform(a, b)\n"
   ]
  },
  {
   "cell_type": "markdown",
   "metadata": {},
   "source": [
    "Similarly, we'll create kernel and likelihood objects, this time passing our random variables as the hyperparameters. Note that the kernels are `beanmachine.kernels` instead of `gpytorch.kernels`."
   ]
  },
  {
   "cell_type": "code",
   "execution_count": 9,
   "metadata": {},
   "outputs": [],
   "source": [
    "kernel = bgp.kernels.ScaleKernel(\n",
    "            base_kernel=bgp.kernels.PeriodicKernel(period_length_prior=period_length,\n",
    "                                                   lengthscale_prior=lengthscale),\n",
    "            outputscale_prior=outputscale\n",
    "        )\n",
    "likelihood = bgp.likelihoods.GaussianLikelihood(noise_prior=noise)\n",
    "\n",
    "gp = Regression(x_train, y_train, mean, kernel, likelihood)"
   ]
  },
  {
   "cell_type": "markdown",
   "metadata": {},
   "source": [
    "Now we can run inference as we would with any other Bean Machine model."
   ]
  },
  {
   "cell_type": "code",
   "execution_count": 10,
   "metadata": {},
   "outputs": [
    {
     "name": "stderr",
     "output_type": "stream",
     "text": [
      "Samples collected: 100%|██████████| 110/110 [01:26<00:00,  1.27it/s]\n"
     ]
    }
   ],
   "source": [
    "num_samples = 100\n",
    "\n",
    "# bind the data to the forward call so it can be invoked in the likelihood\n",
    "gp_prior = partial(gp, x_train)\n",
    "obs = {gp.likelihood(gp_prior): y_train}\n",
    "\n",
    "nuts = SingleSiteNoUTurnSampler()\n",
    "samples = nuts.infer([mean(), lengthscale(), period_length(),\n",
    "                      outputscale(), noise()],\n",
    "                     obs,\n",
    "                     num_samples=num_samples,\n",
    "                     num_adaptive_samples=10,\n",
    "                     num_chains=1)"
   ]
  },
  {
   "cell_type": "markdown",
   "metadata": {},
   "source": [
    "Let's take a look at how our model fit. We will plot the samples of our posterior as well as the predictives generated from our GP."
   ]
  },
  {
   "cell_type": "code",
   "execution_count": 11,
   "metadata": {},
   "outputs": [
    {
     "data": {
      "application/vnd.dataresource+json": {
       "data": [
        {
         "2.5%": 0.0375953214,
         "50%": 0.1062617488,
         "97.5%": 0.4108571842,
         "avg": 0.1401251107,
         "index": "lengthscale()[0]",
         "n_eff": 7.8448901176,
         "std": 0.089506954
        },
        {
         "2.5%": -0.9749671429,
         "50%": -0.2283963263,
         "97.5%": 0.9093707144,
         "avg": -0.1623498499,
         "index": "mean()[0]",
         "n_eff": 27.3337860107,
         "std": 0.5560920835
        },
        {
         "2.5%": 0.0567159667,
         "50%": 0.1621606052,
         "97.5%": 0.2894237965,
         "avg": 0.1738844067,
         "index": "noise()[0]",
         "n_eff": 43.8907089233,
         "std": 0.0725500658
        },
        {
         "2.5%": 1.0052142411,
         "50%": 1.3888779283,
         "97.5%": 1.9938972622,
         "avg": 1.4793772697,
         "index": "outputscale()[]",
         "n_eff": 28.6255664825,
         "std": 0.3322929442
        },
        {
         "2.5%": 0.5141523011,
         "50%": 1.8075315952,
         "97.5%": 2.3647639215,
         "avg": 1.7222872972,
         "index": "period_length()[0]",
         "n_eff": 10.6851015091,
         "std": 0.4814853668
        }
       ],
       "schema": {
        "fields": [
         {
          "name": "index",
          "type": "string"
         },
         {
          "name": "avg",
          "type": "number"
         },
         {
          "name": "std",
          "type": "number"
         },
         {
          "name": "2.5%",
          "type": "number"
         },
         {
          "name": "50%",
          "type": "number"
         },
         {
          "name": "97.5%",
          "type": "number"
         },
         {
          "name": "n_eff",
          "type": "number"
         }
        ],
        "pandas_version": "0.20.0",
        "primaryKey": [
         "index"
        ]
       }
      },
      "text/html": [
       "<div>\n",
       "<style scoped>\n",
       "    .dataframe tbody tr th:only-of-type {\n",
       "        vertical-align: middle;\n",
       "    }\n",
       "\n",
       "    .dataframe tbody tr th {\n",
       "        vertical-align: top;\n",
       "    }\n",
       "\n",
       "    .dataframe thead th {\n",
       "        text-align: right;\n",
       "    }\n",
       "</style>\n",
       "<table border=\"1\" class=\"dataframe\">\n",
       "  <thead>\n",
       "    <tr style=\"text-align: right;\">\n",
       "      <th></th>\n",
       "      <th>avg</th>\n",
       "      <th>std</th>\n",
       "      <th>2.5%</th>\n",
       "      <th>50%</th>\n",
       "      <th>97.5%</th>\n",
       "      <th>n_eff</th>\n",
       "    </tr>\n",
       "  </thead>\n",
       "  <tbody>\n",
       "    <tr>\n",
       "      <th>lengthscale()[0]</th>\n",
       "      <td>0.140125</td>\n",
       "      <td>0.089507</td>\n",
       "      <td>0.037595</td>\n",
       "      <td>0.106262</td>\n",
       "      <td>0.410857</td>\n",
       "      <td>7.844890</td>\n",
       "    </tr>\n",
       "    <tr>\n",
       "      <th>mean()[0]</th>\n",
       "      <td>-0.162350</td>\n",
       "      <td>0.556092</td>\n",
       "      <td>-0.974967</td>\n",
       "      <td>-0.228396</td>\n",
       "      <td>0.909371</td>\n",
       "      <td>27.333786</td>\n",
       "    </tr>\n",
       "    <tr>\n",
       "      <th>noise()[0]</th>\n",
       "      <td>0.173884</td>\n",
       "      <td>0.072550</td>\n",
       "      <td>0.056716</td>\n",
       "      <td>0.162161</td>\n",
       "      <td>0.289424</td>\n",
       "      <td>43.890709</td>\n",
       "    </tr>\n",
       "    <tr>\n",
       "      <th>outputscale()[]</th>\n",
       "      <td>1.479377</td>\n",
       "      <td>0.332293</td>\n",
       "      <td>1.005214</td>\n",
       "      <td>1.388878</td>\n",
       "      <td>1.993897</td>\n",
       "      <td>28.625566</td>\n",
       "    </tr>\n",
       "    <tr>\n",
       "      <th>period_length()[0]</th>\n",
       "      <td>1.722287</td>\n",
       "      <td>0.481485</td>\n",
       "      <td>0.514152</td>\n",
       "      <td>1.807532</td>\n",
       "      <td>2.364764</td>\n",
       "      <td>10.685102</td>\n",
       "    </tr>\n",
       "  </tbody>\n",
       "</table>\n",
       "</div>"
      ],
      "text/plain": [
       "                         avg       std      2.5%       50%     97.5%      n_eff\n",
       "lengthscale()[0]    0.140125  0.089507  0.037595  0.106262  0.410857   7.844890\n",
       "mean()[0]          -0.162350  0.556092 -0.974967 -0.228396  0.909371  27.333786\n",
       "noise()[0]          0.173884  0.072550  0.056716  0.162161  0.289424  43.890709\n",
       "outputscale()[]     1.479377  0.332293  1.005214  1.388878  1.993897  28.625566\n",
       "period_length()[0]  1.722287  0.481485  0.514152  1.807532  2.364764  10.685102"
      ]
     },
     "execution_count": 11,
     "metadata": {
      "bento_obj_id": "140135855830608"
     },
     "output_type": "execute_result"
    }
   ],
   "source": [
    "from beanmachine.ppl.diagnostics.diagnostics import Diagnostics\n",
    "Diagnostics(samples).summary()"
   ]
  },
  {
   "cell_type": "code",
   "execution_count": 12,
   "metadata": {},
   "outputs": [],
   "source": [
    "lengthscale_samples = samples.get_chain(0)[lengthscale()]\n",
    "outputscale_samples = samples.get_chain(0)[outputscale()]\n",
    "period_length_samples = samples.get_chain(0)[period_length()]\n",
    "mean_samples = samples.get_chain(0)[mean()]\n",
    "noise_samples = samples.get_chain(0)[noise()]"
   ]
  },
  {
   "cell_type": "code",
   "execution_count": 13,
   "metadata": {},
   "outputs": [
    {
     "name": "stderr",
     "output_type": "stream",
     "text": [
      "/mnt/xarfuse/uid-214705/fc34591a-seed-nspid4026531836-ns-4026531840/scipy/stats/stats.py:1713: FutureWarning:\n",
      "\n",
      "Using a non-tuple sequence for multidimensional indexing is deprecated; use `arr[tuple(seq)]` instead of `arr[seq]`. In the future this will be interpreted as an array index, `arr[np.array(seq)]`, which will result either in an error or a different result.\n",
      "\n"
     ]
    },
    {
     "data": {
      "image/png": "[encoded data removed]",
      "text/plain": [
       "<Figure size 576x360 with 1 Axes>"
      ]
     },
     "metadata": {
      "bento_obj_id": "140135808274576",
      "needs_background": "light"
     },
     "output_type": "display_data"
    }
   ],
   "source": [
    "plt.figure(figsize=(8, 5))\n",
    "sns.distplot(lengthscale_samples, label='lengthscale')\n",
    "sns.distplot(outputscale_samples, label='outputscale')\n",
    "sns.distplot(period_length_samples[:int(num_samples/2)], label='periodlength')\n",
    "plt.legend()\n",
    "plt.title(\"Posterior Empirical Distribution\", fontsize=18)\n",
    "plt.tight_layout()\n",
    "plt.show()\n"
   ]
  },
  {
   "cell_type": "markdown",
   "metadata": {},
   "source": [
    "To generate predictions, we will convert our model to a Gpytorch model by running in `eval` mode. We load our posterior samples with a python dict, keyed on the parameter namespace and valued on the torch tensor of samples. Note the `unsqueeze`s to allow broadcasting of the data dimension to the right. "
   ]
  },
  {
   "cell_type": "code",
   "execution_count": 14,
   "metadata": {},
   "outputs": [],
   "source": [
    "gp.eval() # converts to Gpytorch model in eval mode\n",
    "gp.bm_load_samples({'kernel.outputscale': outputscale_samples,\n",
    "               'kernel.base_kernel.lengthscale': lengthscale_samples.unsqueeze(-1),\n",
    "               'kernel.base_kernel.period_length': period_length_samples.unsqueeze(-1),\n",
    "               'likelihood.noise': noise_samples,\n",
    "               'mean': mean_samples,\n",
    "              })\n",
    "expanded_x_test = x_test.unsqueeze(0).repeat(num_samples, 1, 1)\n",
    "output = gp(expanded_x_test.detach(), batch_shape=(num_samples,))"
   ]
  },
  {
   "cell_type": "markdown",
   "metadata": {},
   "source": [
    "Now we let's plot a few predictive samples from our GP. As you can see, we can draw different kernels, each of which paramaterizes a Multivariate Normal."
   ]
  },
  {
   "cell_type": "code",
   "execution_count": 15,
   "metadata": {},
   "outputs": [
    {
     "data": {
      "image/png": "[encoded data removed]",
      "text/plain": [
       "<Figure size 576x360 with 1 Axes>"
      ]
     },
     "metadata": {
      "bento_obj_id": "140135807473360",
      "needs_background": "light"
     },
     "output_type": "display_data"
    }
   ],
   "source": [
    "with torch.no_grad():\n",
    "    f, ax = plt.subplots(1, 1, figsize=(8, 5))\n",
    "    ax.plot(x_train.numpy(), y_train.numpy(), 'k*', zorder=10)\n",
    "    ax.plot(x_test.numpy(), output.mean.median(0)[0].detach().numpy(), 'b', linewidth=1.5)\n",
    "    for i in range(min(20, num_samples)):\n",
    "        ax.plot(x_test.numpy(), output.mean[i].detach().numpy(), 'gray', linewidth=0.3, alpha=0.8)\n",
    "    ax.legend(['Observed Data', 'Median', 'Sampled Means'])"
   ]
  },
  {
   "cell_type": "markdown",
   "metadata": {},
   "source": [
    "## References\n",
    "[1] Rasmussen, Carl and Williams, Christopher. **Gaussian Processes for Machine Learning**. 2006."
   ]
  }
 ],
 "metadata": {
  "bento_stylesheets": {
   "bento/extensions/flow/main.css": true,
   "bento/extensions/kernel_selector/main.css": true,
   "bento/extensions/kernel_ui/main.css": true,
   "bento/extensions/new_kernel/main.css": true,
   "bento/extensions/system_usage/main.css": true,
   "bento/extensions/theme/main.css": true
  },
  "disseminate_notebook_id": {
   "notebook_id": "2704931363113793"
  },
  "disseminate_notebook_info": {
   "bento_version": "20201213-210235",
   "description": "",
   "hide_code": false,
   "hipster_group": "",
   "kernel_build_info": {
    "deps": [
     "//beanmachine:bento_deps"
    ],
    "external_deps": []
   },
   "no_uii": true,
   "notebook_number": "365217",
   "others_can_edit": false,
   "reviewers": "",
   "revision_id": "142720057651189",
   "tags": "",
   "tasks": "",
   "title": "BM GP Tutorial"
  },
  "kernelspec": {
   "display_name": "beanmachine",
   "language": "python",
   "name": "bento_kernel_beanmachine"
  },
  "language_info": {
   "codemirror_mode": {
    "name": "ipython",
    "version": 3
   },
   "file_extension": ".py",
   "mimetype": "text/x-python",
   "name": "python",
   "nbconvert_exporter": "python",
   "pygments_lexer": "ipython3",
   "version": "3.7.5+"
  }
 },
 "nbformat": 4,
 "nbformat_minor": 4
}
